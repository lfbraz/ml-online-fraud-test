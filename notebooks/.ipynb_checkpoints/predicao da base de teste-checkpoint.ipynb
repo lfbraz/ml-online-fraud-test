{
 "cells": [
  {
   "cell_type": "code",
   "execution_count": 1,
   "metadata": {},
   "outputs": [],
   "source": [
    "import pandas as pd\n",
    "pd.options.display.max_rows = 100\n",
    "\n",
    "import warnings\n",
    "warnings.filterwarnings('ignore')\n",
    "\n",
    "import numpy as np\n",
    "SEED = 800\n",
    "\n",
    "MEDIAN_TRAIN_DISTINCT_KEYDOWN = 8 # utilizaremos a mediana obtida no treino"
   ]
  },
  {
   "cell_type": "code",
   "execution_count": 2,
   "metadata": {},
   "outputs": [],
   "source": [
    "test = pd.read_csv('../desafio/test.csv')\n",
    "test.reset_index(inplace=True)\n",
    "test.columns = ['index_origin','inputs']"
   ]
  },
  {
   "cell_type": "code",
   "execution_count": 3,
   "metadata": {},
   "outputs": [],
   "source": [
    "df_keyup = pd.DataFrame(columns=['code','tick','index_origin'])\n",
    "df_keydown = pd.DataFrame(columns=['code','tick','index_origin'])\n",
    "\n",
    "# loop into dataframe to be able to transform dict into new dataframes\n",
    "for index,row in test.iterrows():\n",
    "\n",
    "    # keydown\n",
    "    df_keydown = pd.concat([pd.DataFrame.from_dict(eval(row['inputs'])['keyboard']['keydown']),df_keydown],sort=False)\n",
    "    df_keydown = df_keydown.fillna(index).astype(int)\n",
    "    \n",
    "    # keyup\n",
    "    try:\n",
    "        df_keyup = pd.concat([pd.DataFrame.from_dict(eval(row['inputs'])['keyboard']['keyup']),df_keyup],sort=False)\n",
    "        df_keyup = df_keyup.fillna(index).astype(int)\n",
    "    except:\n",
    "        pass"
   ]
  },
  {
   "cell_type": "code",
   "execution_count": 4,
   "metadata": {},
   "outputs": [
    {
     "name": "stdout",
     "output_type": "stream",
     "text": [
      "Quantidade de train 17907\n",
      "Quantidade de Keydown 177656\n",
      "Quantidade de Keyup 169939\n"
     ]
    }
   ],
   "source": [
    "print('Quantidade de train {}'.format(test.index_origin.count()))\n",
    "print('Quantidade de Keydown {}'.format(df_keydown.tick.count()))\n",
    "print('Quantidade de Keyup {}'.format(df_keyup.tick.count()))"
   ]
  },
  {
   "cell_type": "code",
   "execution_count": 5,
   "metadata": {},
   "outputs": [],
   "source": [
    "# Campo sequencial\n",
    "df_keydown['seq'] = df_keydown.groupby(['index_origin'])['tick'].rank(ascending=True,method='first')\n",
    "df_keyup['seq'] = df_keyup.groupby(['index_origin'])['tick'].rank(ascending=True,method='first')\n",
    "\n",
    "# Tempo entre as teclas\n",
    "df_keydown_merged = df_keydown.merge(df_keydown,on='index_origin')\n",
    "df_keydown_grouped = pd.DataFrame(df_keydown_merged[df_keydown_merged.tick_y > df_keydown_merged.tick_x].groupby(\n",
    "                                ['index_origin','code_x','tick_x','seq_x'])['tick_y'].agg('min')).reset_index().sort_values(by=['index_origin','tick_x'])\n",
    "\n",
    "df_keydown_grouped['diff_next_key'] = df_keydown_grouped['tick_y'] - df_keydown_grouped['tick_x']\n",
    "df_keydown_grouped.columns = ['index_origin','code','tick','seq','tick_next','diff_next_key']"
   ]
  },
  {
   "cell_type": "code",
   "execution_count": 6,
   "metadata": {},
   "outputs": [],
   "source": [
    "# Tempo até a próxima tecla\n",
    "df_keydown = df_keydown.merge(df_keydown_grouped,how='outer',on=['index_origin','code','seq'])\n",
    "df_keydown['diff_next_key'][df_keydown.tick_next.isnull()] = 0"
   ]
  },
  {
   "cell_type": "code",
   "execution_count": 7,
   "metadata": {},
   "outputs": [],
   "source": [
    "# Tempo em que o usuário ficou pressionando a tecla\n",
    "df_keydown = df_keydown.merge(df_keyup,on=['index_origin','seq'],how='left')"
   ]
  },
  {
   "cell_type": "code",
   "execution_count": 8,
   "metadata": {},
   "outputs": [],
   "source": [
    "df_keydown['diff_keyup'] = 0\n",
    "df_keydown['diff_keyup'] = df_keydown['tick'] - df_keydown['tick_x'] "
   ]
  },
  {
   "cell_type": "code",
   "execution_count": 9,
   "metadata": {},
   "outputs": [],
   "source": [
    "# Keydown sem keyup\n",
    "df_missing_keyup = df_keydown[df_keydown.diff_keyup.isnull()].groupby(['index_origin']).code_x.agg(['count']).reset_index()\n",
    "df_missing_keyup.columns = ['index_origin','number_missing_keyup']\n",
    "\n",
    "# qtd keydown e keyup\n",
    "df_number_keydown = df_keydown.groupby(['index_origin']).code_x.agg(['count']).reset_index()\n",
    "df_number_keydown.columns = ['index_origin','number_keydown']\n",
    "\n",
    "df_number_keyup = df_keyup.groupby(['index_origin']).code.agg(['count']).reset_index()\n",
    "df_number_keyup.columns = ['index_origin','number_keyup']\n",
    "\n",
    "# Tempo total digitação\n",
    "df_max_keydown = df_keydown.groupby(['index_origin'])['tick_x'].agg(['max']).reset_index()\n",
    "\n",
    "# qtd distinta de teclas\n",
    "df_distinct_keydown = pd.DataFrame(df_keydown.groupby(['index_origin']).code_x.nunique()).reset_index()\n",
    "df_distinct_keydown.columns = ['index_origin','number_distinct_keydown']"
   ]
  },
  {
   "cell_type": "code",
   "execution_count": 10,
   "metadata": {},
   "outputs": [],
   "source": [
    "# Média, mediana e desvio padrão das próx. teclas e do release\n",
    "df_mean_media_next_key = df_keydown.groupby(['index_origin'])['diff_next_key'].agg(['mean','median','std']).reset_index()\n",
    "df_mean_media_next_key.columns = ['index_origin','mean_next_key','median_next_key','std_next_key']\n",
    "\n",
    "df_mean_media_keyup = df_keydown.groupby(['index_origin'])['diff_keyup'].agg(['mean','median','std']).reset_index()\n",
    "df_mean_media_keyup.columns = ['index_origin','mean_keyup','median_keyup','std_keyup']"
   ]
  },
  {
   "cell_type": "code",
   "execution_count": 11,
   "metadata": {},
   "outputs": [],
   "source": [
    "# Consolidar dataframe\n",
    "test = test.merge(df_number_keydown,on = ['index_origin'])\n",
    "test = test.merge(df_number_keyup,on = ['index_origin'],how='left')\n",
    "test = test.merge(df_missing_keyup,on = ['index_origin'],how='left')\n",
    "test = test.merge(df_max_keydown,on = ['index_origin'],how='left')\n",
    "test = test.merge(df_distinct_keydown,on = ['index_origin'],how='left')\n",
    "test = test.merge(df_mean_media_next_key,on = ['index_origin'],how='left')\n",
    "test = test.merge(df_mean_media_keyup,on = ['index_origin'],how='left')"
   ]
  },
  {
   "cell_type": "code",
   "execution_count": 12,
   "metadata": {},
   "outputs": [],
   "source": [
    "# Separação do perfil de digitação\n",
    "test['distinct_key_type'] = 0\n",
    "test['distinct_key_type'][test['number_distinct_keydown'] > MEDIAN_TRAIN_DISTINCT_KEYDOWN] = 1 # we use median from train (not test)"
   ]
  },
  {
   "cell_type": "code",
   "execution_count": 13,
   "metadata": {},
   "outputs": [],
   "source": [
    "# Missing\n",
    "test['number_missing_keyup'][test.number_missing_keyup.isnull()] = 0\n",
    "test['number_keyup'][test.number_keyup.isnull()] = 0\n",
    "test['mean_keyup'][test.mean_keyup.isnull()] = 0\n",
    "test['median_keyup'][test.median_keyup.isnull()] = 0\n",
    "test['std_keyup'][test.std_keyup.isnull()] = 0"
   ]
  },
  {
   "cell_type": "code",
   "execution_count": 14,
   "metadata": {},
   "outputs": [],
   "source": [
    "# Clusterização para separar outliers\n",
    "from sklearn import preprocessing\n",
    "from sklearn.cluster import KMeans\n",
    "\n",
    "df_keydown['seq_scaled'] = 0\n",
    "df_keydown['diff_next_key_scaled'] = 0\n",
    "\n",
    "scaler = preprocessing.StandardScaler()\n",
    "\n",
    "df_keydown[['seq_scaled','diff_next_key_scaled']] = scaler.fit_transform(df_keydown[['seq','diff_next_key']])\n",
    "\n",
    "X = df_keydown[['seq','diff_next_key']]\n",
    "\n",
    "kmeans = KMeans(n_clusters=5, random_state=SEED).fit(X)\n",
    "kmeans.labels_\n",
    "df_keydown['CLUSTER'] = kmeans.labels_"
   ]
  },
  {
   "cell_type": "code",
   "execution_count": 16,
   "metadata": {},
   "outputs": [],
   "source": [
    "index_outliers = df_keydown[df_keydown.CLUSTER>0].index_origin.values\n",
    "test['outlier'] = 0\n",
    "test['outlier'][test.index_origin.isin(index_outliers)] = 1"
   ]
  },
  {
   "cell_type": "markdown",
   "metadata": {},
   "source": [
    "## Model"
   ]
  },
  {
   "cell_type": "code",
   "execution_count": 21,
   "metadata": {},
   "outputs": [],
   "source": [
    "from sklearn.externals import joblib\n",
    "model = joblib.load('classification_rf_model_20180729.pkl')"
   ]
  },
  {
   "cell_type": "code",
   "execution_count": 22,
   "metadata": {},
   "outputs": [],
   "source": [
    "columns_to_remove = ['inputs','index_origin']\n",
    "\n",
    "X = test.drop(columns_to_remove,axis=1)"
   ]
  },
  {
   "cell_type": "code",
   "execution_count": 23,
   "metadata": {},
   "outputs": [],
   "source": [
    "y_pred = model.predict(X)"
   ]
  },
  {
   "cell_type": "code",
   "execution_count": 24,
   "metadata": {},
   "outputs": [],
   "source": [
    "pd.DataFrame(y_pred,columns=['target']).to_csv('../desafio/result.csv',index=False)"
   ]
  }
 ],
 "metadata": {
  "kernelspec": {
   "display_name": "Python 3",
   "language": "python",
   "name": "python3"
  },
  "language_info": {
   "codemirror_mode": {
    "name": "ipython",
    "version": 2
   },
   "file_extension": ".py",
   "mimetype": "text/x-python",
   "name": "python",
   "nbconvert_exporter": "python",
   "pygments_lexer": "ipython2",
   "version": "2.7.14"
  }
 },
 "nbformat": 4,
 "nbformat_minor": 2
}
